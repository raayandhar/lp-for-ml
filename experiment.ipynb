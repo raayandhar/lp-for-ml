{
 "cells": [
  {
   "metadata": {},
   "cell_type": "code",
   "outputs": [],
   "execution_count": null,
   "source": [
    "from utils import *\n",
    "from MySolution_13 import MyClassifier, MyClustering, MyLabelSelection\n",
    "\n",
    "%load_ext autoreload\n",
    "%autoreload 2"
   ],
   "id": "451611c497f9a595"
  },
  {
   "metadata": {},
   "cell_type": "code",
   "outputs": [],
   "execution_count": null,
   "source": [
    "syn_data = prepare_synthetic_data()\n",
    "mnist_data = prepare_mnist_data()\n",
    "\n",
    "print(\"Synthetic data shape: \", syn_data[\"trainX\"].shape, syn_data[\"trainY\"].shape)\n",
    "print(\"MNIST data shape: \", mnist_data[\"trainX\"].shape, mnist_data[\"trainY\"].shape)"
   ],
   "id": "92ed1fd7df49e6e7"
  },
  {
   "metadata": {},
   "cell_type": "markdown",
   "source": "# Task 1 - Classification",
   "id": "2b2e1d8053c52d14"
  },
  {
   "metadata": {},
   "cell_type": "code",
   "outputs": [],
   "execution_count": null,
   "source": [
    "xmin, xmax = np.min(syn_data[\"trainX\"][:, 0]), np.max(syn_data[\"trainX\"][:, 0])\n",
    "ymin, ymax = np.min(syn_data[\"trainX\"][:, 1]), np.max(syn_data[\"trainX\"][:, 1])\n",
    "\n",
    "x_linspace = np.linspace(xmin, xmax, 100)\n",
    "y_linspace = np.linspace(ymin, ymax, 100)\n",
    "x, y = np.meshgrid(x_linspace, y_linspace)\n",
    "cartesian = np.stack((x.ravel(), y.ravel()), axis=1)\n",
    "syn_class = MyClassifier(3)\n",
    "syn_class.train(syn_data[\"trainX\"], syn_data[\"trainY\"])\n",
    "\n",
    "plt.scatter(cartesian[:, 0], cartesian[:, 1], c=syn_class.predict(cartesian), s=1)\n",
    "print(syn_class.predict(cartesian))\n",
    "plt.scatter(syn_data[\"trainX\"][:, 0], syn_data[\"trainX\"][:, 1], c=syn_data[\"trainY\"])\n",
    "# plt.scatter(syn_data[\"testX\"][:, 0], syn_data[\"testX\"][:, 1], c=syn_data[\"testY\"])"
   ],
   "id": "a5d6d49107112c1"
  },
  {
   "metadata": {},
   "cell_type": "markdown",
   "source": "# Task 2 - Clustering",
   "id": "42af479e557e3719"
  },
  {
   "metadata": {},
   "cell_type": "code",
   "outputs": [],
   "execution_count": null,
   "source": [
    "syn_clustering = MyClustering(3)\n",
    "syn_clustering.train(syn_data[\"trainX\"])\n",
    "plt.scatter(syn_data[\"trainX\"][:, 0], syn_data[\"trainX\"][:, 1], c=syn_clustering.labels)"
   ],
   "id": "520aaa677504688b"
  },
  {
   "metadata": {},
   "cell_type": "code",
   "outputs": [],
   "execution_count": null,
   "source": [
    "syn_classifier = MyClassifier(3)\n",
    "syn_classifier.train(syn_data[\"trainX\"], syn_data[\"trainY\"])\n",
    "mnist_classifier = MyClassifier(3)\n",
    "mnist_classifier.train(mnist_data[\"trainX\"], mnist_data[\"trainY\"])\n",
    "result1 = {\n",
    "    \"synthetic_test_accuracy\": syn_classifier.evaluate(syn_data[\"testX\"], syn_data[\"testY\"]),\n",
    "    \"mnist_test_accuracy\": mnist_classifier.evaluate(mnist_data[\"testX\"], mnist_data[\"testY\"])\n",
    "}"
   ],
   "id": "364a27ac5aaaa4ec"
  },
  {
   "metadata": {},
   "cell_type": "code",
   "outputs": [],
   "execution_count": null,
   "source": [
    "result2 = {\n",
    "    \"synthetic\": {\n",
    "        \"K\": [3, 5, 10],\n",
    "        \"clustering_nmi\": [],\n",
    "        \"classification_accuracy\": [],\n",
    "    },\n",
    "    \"mnist\": {\n",
    "        \"K\": [3, 10, 32],\n",
    "        \"clustering_nmi\": [],\n",
    "        \"classification_accuracy\": []\n",
    "    },\n",
    "}\n",
    "\n",
    "for k1, k2 in zip(result2[\"synthetic\"][\"K\"], result2[\"mnist\"][\"K\"]):\n",
    "    print(f\"training synthetic dataset with K = {k1}\")\n",
    "    syn_clustering = MyClustering(k1)\n",
    "    syn_clustering.train(syn_data[\"trainX\"])\n",
    "    syn_nmi = syn_clustering.evaluate_clustering(syn_data[\"trainY\"].astype(np.int32))\n",
    "    syn_acc = syn_clustering.evaluate_classification(\n",
    "        syn_data[\"trainY\"].astype(np.int32),\n",
    "        syn_data[\"testX\"].astype(np.int32),\n",
    "        syn_data[\"testY\"].astype(np.int32),\n",
    "    )\n",
    "    result2[\"synthetic\"][\"clustering_nmi\"].append(syn_nmi)\n",
    "    result2[\"synthetic\"][\"classification_accuracy\"].append(syn_acc)\n",
    "\n",
    "    print(f\"training mnist dataset with K = {k2}\")\n",
    "    mnist_clustering = MyClustering(k2)\n",
    "    mnist_clustering.train(mnist_data[\"trainX\"])\n",
    "    mnist_nmi = mnist_clustering.evaluate_clustering(\n",
    "        mnist_data[\"trainY\"].astype(np.int32)\n",
    "    )\n",
    "    mnist_acc = mnist_clustering.evaluate_classification(\n",
    "        mnist_data[\"trainY\"].astype(np.int32),\n",
    "        mnist_data[\"testX\"].astype(np.int32),\n",
    "        mnist_data[\"testY\"].astype(np.int32),\n",
    "    )\n",
    "    result2[\"mnist\"][\"clustering_nmi\"].append(mnist_nmi)\n",
    "    result2[\"mnist\"][\"classification_accuracy\"].append(mnist_acc)"
   ],
   "id": "bf962a73e2e695cd"
  },
  {
   "metadata": {},
   "cell_type": "markdown",
   "source": "# Task 3 - Semi-supervised Learning",
   "id": "e456336def70b635"
  },
  {
   "metadata": {},
   "cell_type": "code",
   "outputs": [],
   "execution_count": null,
   "source": "",
   "id": "764bacee9c9fd467"
  },
  {
   "metadata": {},
   "cell_type": "markdown",
   "source": "# Overall Results",
   "id": "a898f1e9f8a41e37"
  },
  {
   "metadata": {},
   "cell_type": "code",
   "outputs": [],
   "execution_count": null,
   "source": "plot_result(result1=result1, result2=result2)",
   "id": "f30fef98278d076a"
  }
 ],
 "metadata": {},
 "nbformat": 5,
 "nbformat_minor": 9
}
